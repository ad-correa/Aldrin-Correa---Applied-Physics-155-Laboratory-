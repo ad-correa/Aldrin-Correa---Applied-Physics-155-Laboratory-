{
 "cells": [
  {
   "cell_type": "code",
   "execution_count": 1,
   "id": "b53b400a-fbd9-4830-bb78-e65d3a30843e",
   "metadata": {},
   "outputs": [
    {
     "data": {
      "text/plain": [
       "[[8, 8, 3, 1], [4, 10, 8, 8], [6, 4, 3, 3]]"
      ]
     },
     "execution_count": 1,
     "metadata": {},
     "output_type": "execute_result"
    }
   ],
   "source": [
    "# A1 \n",
    "\n",
    "'''\n",
    "For this, I basically made a list containing random numbers from 1-10,\n",
    "then added that list to the matrix list, so it is a list within a list.\n",
    "'''\n",
    "\n",
    "import random\n",
    "\n",
    "def random_integer_matrix(nrows, ncols):\n",
    "    matrix = []\n",
    "    for i in range(nrows):\n",
    "        row = [random.randint(1,10) for i in range(0, ncols)]\n",
    "        matrix.append(row)\n",
    "    return matrix\n",
    "    \n",
    "random_integer_matrix(3,4)\n"
   ]
  },
  {
   "cell_type": "code",
   "execution_count": 2,
   "id": "c37e1390-8a8f-4834-bd48-1733e7dbf01f",
   "metadata": {},
   "outputs": [
    {
     "data": {
      "text/plain": [
       "32"
      ]
     },
     "execution_count": 2,
     "metadata": {},
     "output_type": "execute_result"
    }
   ],
   "source": [
    "# A2\n",
    "\n",
    "'''\n",
    "I made a list of the products by termwise multiplication of the two lists,\n",
    "then I just added all the elements on that list.\n",
    "'''\n",
    "\n",
    "def scalar_product(list1, list2):\n",
    "    product = []\n",
    "    for i in range(len(list1)):\n",
    "        product.append(list1[i]*list2[i])\n",
    "    a = sum(product)\n",
    "    return a\n",
    "\n",
    "scalar_product([1,2,3],[4,5,6])"
   ]
  },
  {
   "cell_type": "code",
   "execution_count": 3,
   "id": "36768003-edac-4a96-8613-d416e15cc858",
   "metadata": {},
   "outputs": [
    {
     "data": {
      "text/plain": [
       "[[3, 5, 3], [5, 7, 9], [7, 2, 9], [5, 2, 8]]"
      ]
     },
     "execution_count": 3,
     "metadata": {},
     "output_type": "execute_result"
    }
   ],
   "source": [
    "#A3\n",
    "\n",
    "'''\n",
    "For this one, I made a list from the jth element of the ith row, so that it switches.\n",
    "The idea was that from the ith row, get the jth element, and iterate that for all the rows,\n",
    "and make a list from that.\n",
    "'''\n",
    "\n",
    "orig_matrix = [[3, 5, 7, 5], [5, 7, 2, 2], [3, 9, 9, 8]]\n",
    "\n",
    "def transpose_matrix(orig_matrix):\n",
    "    rows = len(orig_matrix)\n",
    "    cols = len(orig_matrix[0])\n",
    "    trans_matrix = [[orig_matrix[j][i] for j in range(rows)] for i in range(cols)]\n",
    "    return trans_matrix\n",
    "\n",
    "transpose_matrix(orig_matrix)"
   ]
  },
  {
   "cell_type": "code",
   "execution_count": 4,
   "id": "9f2f3402-c988-4882-8dd1-f437285f746c",
   "metadata": {},
   "outputs": [
    {
     "data": {
      "text/plain": [
       "[[22, 28], [49, 64]]"
      ]
     },
     "execution_count": 4,
     "metadata": {},
     "output_type": "execute_result"
    }
   ],
   "source": [
    "# A4\n",
    "\n",
    "'''\n",
    "For this, I wasnted to transpose the second factor if they are multiplicable,\n",
    "then just do a scalar product for every row present.\n",
    "'''\n",
    "\n",
    "def matrix_multiply(left_matrix, right_matrix):\n",
    "    product = []\n",
    "    if len(left_matrix[0]) == len(right_matrix):\n",
    "        factor_2 = transpose_matrix(right_matrix)\n",
    "        for i in range(len(left_matrix)):\n",
    "            product_rows = []\n",
    "            for j in range(len(factor_2)):\n",
    "                product_rows.append(scalar_product(left_matrix[i],factor_2[j]))\n",
    "            product.append(product_rows)\n",
    "        return product\n",
    "    else:\n",
    "        print('The matrices cannot be multiplied.')\n",
    "        return\n",
    "    \n",
    "left_matrix = [[1,2,3],[4,5,6]]\n",
    "right_matrix = [[1,2],[3,4],[5,6]]\n",
    "matrix_multiply(left_matrix, right_matrix)\n"
   ]
  },
  {
   "cell_type": "code",
   "execution_count": null,
   "id": "98a29640-7af1-40c0-8ec4-6ede5b916d28",
   "metadata": {},
   "outputs": [],
   "source": []
  }
 ],
 "metadata": {
  "kernelspec": {
   "display_name": "Python 3 (ipykernel)",
   "language": "python",
   "name": "python3"
  },
  "language_info": {
   "codemirror_mode": {
    "name": "ipython",
    "version": 3
   },
   "file_extension": ".py",
   "mimetype": "text/x-python",
   "name": "python",
   "nbconvert_exporter": "python",
   "pygments_lexer": "ipython3",
   "version": "3.13.5"
  }
 },
 "nbformat": 4,
 "nbformat_minor": 5
}
