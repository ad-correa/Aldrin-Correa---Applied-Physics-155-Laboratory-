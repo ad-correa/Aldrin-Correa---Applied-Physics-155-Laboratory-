{
 "cells": [
  {
   "cell_type": "code",
   "execution_count": 30,
   "id": "4965fd92-f25a-4870-8cc4-6dc9fd2f8d67",
   "metadata": {},
   "outputs": [
    {
     "name": "stdout",
     "output_type": "stream",
     "text": [
      "233168\n"
     ]
    }
   ],
   "source": [
    "import numpy as np\n",
    "\n",
    "list = np.arange(1,1000)\n",
    "sum = 0\n",
    "for i in list:\n",
    "    if i % 3 == 0 or i % 5 == 0:\n",
    "     sum += i\n",
    "print(sum)"
   ]
  },
  {
   "cell_type": "code",
   "execution_count": null,
   "id": "7c696bd6-5974-4258-96a4-b205fe306841",
   "metadata": {},
   "outputs": [],
   "source": []
  }
 ],
 "metadata": {
  "kernelspec": {
   "display_name": "Python [conda env:base] *",
   "language": "python",
   "name": "conda-base-py"
  },
  "language_info": {
   "codemirror_mode": {
    "name": "ipython",
    "version": 3
   },
   "file_extension": ".py",
   "mimetype": "text/x-python",
   "name": "python",
   "nbconvert_exporter": "python",
   "pygments_lexer": "ipython3",
   "version": "3.12.7"
  }
 },
 "nbformat": 4,
 "nbformat_minor": 5
}
