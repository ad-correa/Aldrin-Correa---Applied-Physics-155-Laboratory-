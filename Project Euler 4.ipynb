{
  "nbformat": 4,
  "nbformat_minor": 0,
  "metadata": {
    "colab": {
      "provenance": []
    },
    "kernelspec": {
      "name": "python3",
      "display_name": "Python 3"
    },
    "language_info": {
      "name": "python"
    }
  },
  "cells": [
    {
      "cell_type": "code",
      "execution_count": 1,
      "metadata": {
        "colab": {
          "base_uri": "https://localhost:8080/"
        },
        "id": "XpH-qHFfBVFl",
        "outputId": "593037c3-6010-4664-f5da-dfaadc18fd82"
      },
      "outputs": [
        {
          "output_type": "stream",
          "name": "stdout",
          "text": [
            "906609\n"
          ]
        }
      ],
      "source": [
        "def palindrome(n):\n",
        "  return str(n) == str(n)[::-1]\n",
        "\n",
        "palindrome_product = 0\n",
        "for i in range (100,1000):\n",
        "  for j in range (100,1000):\n",
        "    a = i*j\n",
        "    if palindrome(a) and a > palindrome_product:\n",
        "      palindrome_product = a\n",
        "\n",
        "print(palindrome_product)"
      ]
    }
  ]
}