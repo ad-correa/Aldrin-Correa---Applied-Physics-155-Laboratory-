{
 "cells": [
  {
   "cell_type": "code",
   "execution_count": 60,
   "id": "c832087b-ebbf-44dd-aef0-c5f2ca380d1f",
   "metadata": {},
   "outputs": [
    {
     "name": "stdout",
     "output_type": "stream",
     "text": [
      "3524578\n"
     ]
    }
   ],
   "source": [
    "import numpy as np\n",
    "\n",
    "def fibnummax(n):\n",
    "    num_list = [1,2]\n",
    "    while num_list[-1] + num_list[-2] <= n:\n",
    "        num_list.append(num_list[-1] + num_list[-2])\n",
    "    return num_list\n",
    "\n",
    "addends = fibnummax(4000000)\n",
    "for i in addends:\n",
    "    sum = 0\n",
    "    if i % 2 == 0:\n",
    "        sum += i\n",
    "\n",
    "print(sum)"
   ]
  },
  {
   "cell_type": "code",
   "execution_count": null,
   "id": "e7f7c2f0-917d-42b6-8621-15a4546a63ae",
   "metadata": {},
   "outputs": [],
   "source": []
  }
 ],
 "metadata": {
  "kernelspec": {
   "display_name": "Python [conda env:base] *",
   "language": "python",
   "name": "conda-base-py"
  },
  "language_info": {
   "codemirror_mode": {
    "name": "ipython",
    "version": 3
   },
   "file_extension": ".py",
   "mimetype": "text/x-python",
   "name": "python",
   "nbconvert_exporter": "python",
   "pygments_lexer": "ipython3",
   "version": "3.12.7"
  }
 },
 "nbformat": 4,
 "nbformat_minor": 5
}
